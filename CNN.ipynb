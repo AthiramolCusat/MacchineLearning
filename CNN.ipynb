{
  "nbformat": 4,
  "nbformat_minor": 0,
  "metadata": {
    "colab": {
      "provenance": [],
      "mount_file_id": "1TONLZm2t_ffqNA7oujC-xMeehdKKNfuS",
      "authorship_tag": "ABX9TyNa23DGv/enYkeJV7C2xMdr",
      "include_colab_link": true
    },
    "kernelspec": {
      "name": "python3",
      "display_name": "Python 3"
    },
    "language_info": {
      "name": "python"
    }
  },
  "cells": [
    {
      "cell_type": "markdown",
      "metadata": {
        "id": "view-in-github",
        "colab_type": "text"
      },
      "source": [
        "<a href=\"https://colab.research.google.com/github/AthiramolCusat/MacchineLearning/blob/main/CNN.ipynb\" target=\"_parent\"><img src=\"https://colab.research.google.com/assets/colab-badge.svg\" alt=\"Open In Colab\"/></a>"
      ]
    },
    {
      "cell_type": "code",
      "execution_count": null,
      "metadata": {
        "colab": {
          "base_uri": "https://localhost:8080/"
        },
        "id": "DrQZ2HT05HRS",
        "outputId": "cce6ef60-ea47-4ef7-da13-22f0c0b09819"
      },
      "outputs": [
        {
          "output_type": "stream",
          "name": "stdout",
          "text": [
            "Found 520 images belonging to 2 classes.\n",
            "Found 230 images belonging to 2 classes.\n",
            "Epoch 1/10\n",
            "17/17 [==============================] - ETA: 0s - loss: 0.0640 - accuracy: 0.9442"
          ]
        }
      ],
      "source": [
        "import tensorflow as tf\n",
        "from tensorflow.keras.models import Sequential\n",
        "from tensorflow.keras.layers import Conv2D, MaxPooling2D, Flatten, Dense, Dropout\n",
        "from tensorflow.keras.preprocessing.image import ImageDataGenerator\n",
        "\n",
        "# Define paths to your dataset\n",
        "train_path = \"/content/drive/MyDrive/archive(16)/training_set/training_set\"\n",
        "test_path = \"/content/drive/MyDrive/archive(16)/test_set/test_set\"\n",
        "\n",
        "# Set up data augmentation for the training set\n",
        "train_datagen = ImageDataGenerator(rescale=1./255,\n",
        "                                   shear_range=0.2,\n",
        "                                   zoom_range=0.2,\n",
        "                                   horizontal_flip=True)\n",
        "\n",
        "# Set up data augmentation for the testing set\n",
        "test_datagen = ImageDataGenerator(rescale=1./255)\n",
        "\n",
        "# Set up the training set generator\n",
        "train_generator = train_datagen.flow_from_directory(train_path,\n",
        "                                                    target_size=(64, 64),\n",
        "                                                    batch_size=32,\n",
        "                                                    class_mode='binary')\n",
        "\n",
        "# Set up the testing set generator\n",
        "test_generator = test_datagen.flow_from_directory(test_path,\n",
        "                                                  target_size=(64, 64),\n",
        "                                                  batch_size=32,\n",
        "                                                  class_mode='binary')\n",
        "\n",
        "# Build the CNN model\n",
        "model = Sequential()\n",
        "\n",
        "# Convolutional layers\n",
        "model.add(Conv2D(32, (3, 3), input_shape=(64, 64, 3), activation='relu'))\n",
        "model.add(MaxPooling2D(pool_size=(2, 2)))\n",
        "\n",
        "model.add(Conv2D(64, (3, 3), activation='relu'))\n",
        "model.add(MaxPooling2D(pool_size=(2, 2)))\n",
        "\n",
        "model.add(Conv2D(128, (3, 3), activation='relu'))\n",
        "model.add(MaxPooling2D(pool_size=(2, 2)))\n",
        "\n",
        "# Flatten layer\n",
        "model.add(Flatten())\n",
        "\n",
        "# Fully connected layers\n",
        "model.add(Dense(128, activation='relu'))\n",
        "model.add(Dropout(0.5))\n",
        "\n",
        "model.add(Dense(1, activation='sigmoid'))\n",
        "\n",
        "# Compile the model\n",
        "model.compile(optimizer='adam', loss='binary_crossentropy', metrics=['accuracy'])\n",
        "\n",
        "# Train the model\n",
        "model.fit(train_generator, epochs=2, validation_data=test_generator)\n",
        "\n",
        "# Evaluate the model on the testing set\n",
        "accuracy = model.evaluate(test_generator)[1]\n",
        "print(f\"Accuracy on the testing set: {accuracy}\")\n"
      ]
    },
    {
      "cell_type": "code",
      "source": [
        "from tensorflow.keras.preprocessing import image\n",
        "import numpy as np\n",
        "\n",
        "# Load the trained model\n",
        "#model_path = \"path/to/your/trained/model.h5\"\n",
        "#model = tf.keras.models.load_model(model_path)\n",
        "\n",
        "# Path to the new image you want to classify\n",
        "new_image_path = \"/content/drive/MyDrive/archive(16)/test_set/test_set/cats/cat.4131.jpg\"\n",
        "\n",
        "# Load and preprocess the image\n",
        "img = image.load_img(new_image_path, target_size=(224, 224))\n",
        "img_array = image.img_to_array(img)\n",
        "img_array = np.expand_dims(img_array, axis=0)\n",
        "img_array /= 255.0\n",
        "\n",
        "# Make predictions\n",
        "predictions = model.predict(img_array)\n",
        "\n",
        "# Classify the image\n",
        "if predictions[0] > 0.5:\n",
        "    print(\"Predicted: Dog\")\n",
        "else:\n",
        "    print(\"Predicted: Cat\")"
      ],
      "metadata": {
        "id": "ISCmgMeF5xd9"
      },
      "execution_count": null,
      "outputs": []
    }
  ]
}