{
  "nbformat": 4,
  "nbformat_minor": 0,
  "metadata": {
    "colab": {
      "provenance": [],
      "mount_file_id": "1ANKhE0FEXWq-jmOCAJTsdTREaKsSmmu1",
      "authorship_tag": "ABX9TyPqa5xOlM7EAGnSXoTDUva7",
      "include_colab_link": true
    },
    "kernelspec": {
      "name": "python3",
      "display_name": "Python 3"
    },
    "language_info": {
      "name": "python"
    },
    "gpuClass": "standard"
  },
  "cells": [
    {
      "cell_type": "markdown",
      "metadata": {
        "id": "view-in-github",
        "colab_type": "text"
      },
      "source": [
        "<a href=\"https://colab.research.google.com/github/AthiramolCusat/MacchineLearning/blob/main/croppingimage.ipynb\" target=\"_parent\"><img src=\"https://colab.research.google.com/assets/colab-badge.svg\" alt=\"Open In Colab\"/></a>"
      ]
    },
    {
      "cell_type": "code",
      "execution_count": null,
      "metadata": {
        "id": "zs0LvCSk1el3"
      },
      "outputs": [],
      "source": [
        "import os\n",
        "import PIL\n",
        "from PIL import Image"
      ]
    },
    {
      "cell_type": "code",
      "source": [
        "imagedata='/content/drive/MyDrive/AANormal Dataset Midas Unshuffled'\n",
        "croppedf='/content/drive/MyDrive/croppedmidas'"
      ],
      "metadata": {
        "id": "8Yn2lLjX2GN-"
      },
      "execution_count": null,
      "outputs": []
    },
    {
      "cell_type": "markdown",
      "source": [
        "sankers"
      ],
      "metadata": {
        "id": "W2UxfQexO1nE"
      }
    },
    {
      "cell_type": "code",
      "source": [
        "box=(212,113,1082,669)\n",
        "os.listdir(imagedata)\n",
        "for file in os.listdir(imagedata):\n",
        "    f_img = imagedata+\"/\"+file\n",
        "    img = Image.open(f_img)\n",
        "    img = img.crop(box)\n",
        "    img.save(croppedf+\"/\"+file)\n"
      ],
      "metadata": {
        "id": "9v26psxy1pom"
      },
      "execution_count": null,
      "outputs": []
    },
    {
      "cell_type": "markdown",
      "source": [
        "Midas"
      ],
      "metadata": {
        "id": "hdWYjN1MO02x"
      }
    },
    {
      "cell_type": "code",
      "source": [
        "box=(5,109,488,411)\n",
        "os.listdir(imagedata)\n",
        "for file in os.listdir(imagedata):\n",
        "    f_img = imagedata+\"/\"+file\n",
        "    img = Image.open(f_img)\n",
        "    img = img.crop(box)\n",
        "    img.save(croppedf+\"/\"+file)"
      ],
      "metadata": {
        "id": "-IehgkGTO9oE"
      },
      "execution_count": null,
      "outputs": []
    }
  ]
}