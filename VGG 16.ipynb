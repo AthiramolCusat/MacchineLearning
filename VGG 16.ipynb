{
  "nbformat": 4,
  "nbformat_minor": 0,
  "metadata": {
    "colab": {
      "provenance": [],
      "mount_file_id": "1Ml76OapySq1aRLCWkszwucJsREFA4-ce",
      "authorship_tag": "ABX9TyNMQoVdQq4gX+jYPRji4ADz",
      "include_colab_link": true
    },
    "kernelspec": {
      "name": "python3",
      "display_name": "Python 3"
    },
    "language_info": {
      "name": "python"
    }
  },
  "cells": [
    {
      "cell_type": "markdown",
      "metadata": {
        "id": "view-in-github",
        "colab_type": "text"
      },
      "source": [
        "<a href=\"https://colab.research.google.com/github/AthiramolCusat/MacchineLearning/blob/main/VGG%2016.ipynb\" target=\"_parent\"><img src=\"https://colab.research.google.com/assets/colab-badge.svg\" alt=\"Open In Colab\"/></a>"
      ]
    },
    {
      "cell_type": "code",
      "execution_count": 1,
      "metadata": {
        "colab": {
          "base_uri": "https://localhost:8080/"
        },
        "id": "Ck54n4nWxVM3",
        "outputId": "c0ac63bc-69c4-41a0-ed3d-744748230dd4"
      },
      "outputs": [
        {
          "output_type": "stream",
          "name": "stdout",
          "text": [
            "Found 520 images belonging to 1 classes.\n",
            "Found 230 images belonging to 2 classes.\n",
            "Epoch 1/2\n",
            "17/17 [==============================] - 424s 25s/step - loss: 0.0158 - accuracy: 0.9942 - val_loss: 106.9442 - val_accuracy: 0.4826\n",
            "Epoch 2/2\n",
            "17/17 [==============================] - 425s 25s/step - loss: 0.0000e+00 - accuracy: 1.0000 - val_loss: 123.3540 - val_accuracy: 0.4826\n",
            "8/8 [==============================] - 123s 15s/step - loss: 123.3540 - accuracy: 0.4826\n",
            "Accuracy on the testing set: 0.48260870575904846\n"
          ]
        }
      ],
      "source": [
        "import tensorflow as tf\n",
        "from tensorflow.keras.preprocessing.image import ImageDataGenerator\n",
        "from tensorflow.keras.applications import VGG16\n",
        "from tensorflow.keras import layers\n",
        "from tensorflow.keras import Model\n",
        "\n",
        "# Define paths to your dataset\n",
        "train_path = \"/content/drive/MyDrive/archive(16)/training_set\"\n",
        "test_path = \"/content/drive/MyDrive/archive(16)/test_set/test_set\"\n",
        "\n",
        "# Set up data augmentation for the training set\n",
        "train_datagen = ImageDataGenerator(rescale=1./255,\n",
        "                                   shear_range=0.2,\n",
        "                                   zoom_range=0.2,\n",
        "                                   horizontal_flip=True)\n",
        "\n",
        "# Set up data augmentation for the testing set\n",
        "test_datagen = ImageDataGenerator(rescale=1./255)\n",
        "\n",
        "# Set up the training set generator\n",
        "train_generator = train_datagen.flow_from_directory(train_path,\n",
        "                                                    target_size=(224, 224),\n",
        "                                                    batch_size=32,\n",
        "                                                    class_mode='binary')\n",
        "\n",
        "# Set up the testing set generator\n",
        "test_generator = test_datagen.flow_from_directory(test_path,\n",
        "                                                  target_size=(224, 224),\n",
        "                                                  batch_size=32,\n",
        "                                                  class_mode='binary')\n",
        "\n",
        "# Load pre-trained VGG16 model without the top (fully connected) layers\n",
        "base_model = VGG16(weights='imagenet', include_top=False, input_shape=(224, 224, 3))\n",
        "\n",
        "# Freeze the convolutional layers\n",
        "for layer in base_model.layers:\n",
        "    layer.trainable = False\n",
        "\n",
        "# Add custom top layers for binary classification (cat or dog)\n",
        "x = layers.Flatten()(base_model.output)\n",
        "x = layers.Dense(256, activation='relu')(x)\n",
        "x = layers.Dropout(0.5)(x)\n",
        "x = layers.Dense(1, activation='sigmoid')(x)\n",
        "\n",
        "# Create the final model\n",
        "model = Model(base_model.input, x)\n",
        "\n",
        "# Compile the model\n",
        "model.compile(optimizer='adam', loss='binary_crossentropy', metrics=['accuracy'])\n",
        "\n",
        "# Train the model\n",
        "model.fit(train_generator, epochs=2, validation_data=test_generator)\n",
        "\n",
        "# Evaluate the model on the testing set\n",
        "accuracy = model.evaluate(test_generator)[1]\n",
        "print(f\"Accuracy on the testing set: {accuracy}\")\n"
      ]
    },
    {
      "cell_type": "code",
      "source": [
        "from tensorflow.keras.preprocessing import image\n",
        "import numpy as np\n",
        "\n",
        "# Load the trained model\n",
        "#model_path = \"path/to/your/trained/model.h5\"\n",
        "#model = tf.keras.models.load_model(model_path)\n",
        "\n",
        "# Path to the new image you want to classify\n",
        "new_image_path = \"/content/drive/MyDrive/archive(16)/test_set/test_set/cats/cat.4159.jpg\"\n",
        "\n",
        "# Load and preprocess the image\n",
        "img = image.load_img(new_image_path, target_size=(224, 224))\n",
        "img_array = image.img_to_array(img)\n",
        "img_array = np.expand_dims(img_array, axis=0)\n",
        "img_array /= 255.0\n",
        "\n",
        "# Make predictions\n",
        "predictions = model.predict(img_array)\n",
        "\n",
        "# Classify the image\n",
        "if predictions[0] > 0.5:\n",
        "    print(\"Predicted: Dog\")\n",
        "else:\n",
        "    print(\"Predicted: Cat\")\n"
      ],
      "metadata": {
        "colab": {
          "base_uri": "https://localhost:8080/"
        },
        "id": "JK3Un5LSyTmW",
        "outputId": "5387c315-88a5-47f3-fc1f-dc33631bf48c"
      },
      "execution_count": 2,
      "outputs": [
        {
          "output_type": "stream",
          "name": "stdout",
          "text": [
            "1/1 [==============================] - 1s 961ms/step\n",
            "Predicted: Cat\n"
          ]
        }
      ]
    },
    {
      "cell_type": "code",
      "source": [
        "from google.colab import drive\n",
        "drive.mount('/content/drive')"
      ],
      "metadata": {
        "colab": {
          "base_uri": "https://localhost:8080/"
        },
        "id": "SdrmH4ISxYtU",
        "outputId": "f789d263-3fe3-4b90-d20c-c237088e78fb"
      },
      "execution_count": 1,
      "outputs": [
        {
          "output_type": "stream",
          "name": "stdout",
          "text": [
            "Mounted at /content/drive\n"
          ]
        }
      ]
    }
  ]
}